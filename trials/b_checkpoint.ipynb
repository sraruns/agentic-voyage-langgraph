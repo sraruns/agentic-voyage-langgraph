{
 "cells": [
  {
   "cell_type": "code",
   "execution_count": 1,
   "id": "2578249d",
   "metadata": {},
   "outputs": [
    {
     "name": "stderr",
     "output_type": "stream",
     "text": [
      "s:\\Workspace\\langgraph\\agentic-voyage-langgraph\\myenv\\lib\\site-packages\\tqdm\\auto.py:21: TqdmWarning: IProgress not found. Please update jupyter and ipywidgets. See https://ipywidgets.readthedocs.io/en/stable/user_install.html\n",
      "  from .autonotebook import tqdm as notebook_tqdm\n"
     ]
    }
   ],
   "source": [
    "from typing import Annotated\n",
    "from langgraph.graph import StateGraph, START, END\n",
    "from langgraph.graph.message import add_messages\n",
    "from dotenv import load_dotenv\n",
    "from IPython.display import Image, display\n",
    "from langgraph.prebuilt import ToolNode, tools_condition\n",
    "import gradio as gr\n",
    "from langchain_openai import ChatOpenAI\n",
    "from pydantic import BaseModel\n",
    "import random"
   ]
  },
  {
   "cell_type": "code",
   "execution_count": null,
   "id": "ad51feb4",
   "metadata": {},
   "outputs": [
    {
     "name": "stdout",
     "output_type": "stream",
     "text": [
      "✅ Message sent successfully!\n"
     ]
    },
    {
     "data": {
      "text/plain": [
       "<Response [200]>"
      ]
     },
     "execution_count": 2,
     "metadata": {},
     "output_type": "execute_result"
    }
   ],
   "source": [
    "import requests\n",
    "import os\n",
    "from langchain.agents import Tool\n",
    "\n",
    "load_dotenv(override=True)\n",
    "def telegram_push(text: str):\n",
    "    \"\"\"Send push notification via Telegram\"\"\"\n",
    "    telegram_token = os.getenv(\"TELEGRAM_TOKEN\")\n",
    "    chat_id = os.getenv(\"TELEGRAM_CHAT_ID\")\n",
    "    \n",
    "    url = f\"https://api.telegram.org/bot{telegram_token}/sendMessage\"\n",
    "    response=requests.post(url, data={\n",
    "        \"chat_id\": chat_id,\n",
    "        \"text\": text\n",
    "    })\n",
    "    # Check response\n",
    "    if response.status_code == 200:\n",
    "        print(\"✅ Message sent successfully!\")\n",
    "    else:\n",
    "        print(f\"❌ Failed: {response.status_code}\")\n",
    "        print(response.text)\n",
    "    \n",
    "    return response\n",
    "\n",
    "telegram_tool = Tool(\n",
    "    name=\"telegram_push\",\n",
    "    func=telegram_push,\n",
    "    description=\"Send a message to a Telegram chat\"\n",
    ")\n",
    "\n",
    "telegram_tool.invoke(\"Hello from my script! 🚀\")\n"
   ]
  },
  {
   "cell_type": "code",
   "execution_count": 3,
   "id": "84ef17f5",
   "metadata": {},
   "outputs": [],
   "source": [
    "from langchain_community.utilities import GoogleSerperAPIWrapper\n",
    "\n",
    "serper= GoogleSerperAPIWrapper()\n",
    "search_tool= Tool(\n",
    "    name=\"search\",\n",
    "    func=serper.run,\n",
    "    description=\"Search the web for information\"\n",
    ")\n",
    "\n",
    "\n"
   ]
  },
  {
   "cell_type": "code",
   "execution_count": 4,
   "id": "a8ed6145",
   "metadata": {},
   "outputs": [
    {
     "data": {
      "image/png": "[encoded data removed]",
      "text/plain": [
       "<IPython.core.display.Image object>"
      ]
     },
     "metadata": {},
     "output_type": "display_data"
    }
   ],
   "source": [
    "from typing import TypedDict\n",
    "\n",
    "from langgraph import graph\n",
    "\n",
    "\n",
    "tools=[telegram_tool, search_tool]\n",
    "\n",
    "# Give context of the tools to the LLM\n",
    "llm = ChatOpenAI(model=\"gpt-4o-mini\", temperature=0)\n",
    "llm_with_tools = llm.bind_tools(tools)\n",
    "\n",
    "# 1. create a state\n",
    "class State(TypedDict):\n",
    "    messages: Annotated[list, add_messages]\n",
    "graph_builder = StateGraph(State)\n",
    "\n",
    "# 2. create a chat node\n",
    "def chatbot_node(old_state: State) -> State:\n",
    "    return {\"messages\": [llm_with_tools.invoke(old_state[\"messages\"])]}\n",
    "\n",
    "# 3. create nodes\n",
    "graph_builder.add_node(\"chatbot_node\", chatbot_node)\n",
    "graph_builder.add_node(\"tools\", ToolNode(tools=tools))\n",
    "\n",
    "\n",
    "# 4. create conditional edges\n",
    "graph_builder.add_conditional_edges(\n",
    "    \"chatbot_node\",\n",
    "    tools_condition,\n",
    "    \"tools\"\n",
    ")\n",
    "\n",
    "# 5. connect the nodes and edges\n",
    "graph_builder.add_edge(START, \"chatbot_node\")\n",
    "graph_builder.add_edge(\"tools\", \"chatbot_node\")\n",
    "graph_builder.add_edge(\"chatbot_node\", END)\n",
    "\n",
    "\n",
    "# 6. compile the graph\n",
    "graph = graph_builder.compile()\n",
    "display(Image(graph.get_graph().draw_mermaid_png()))\n"
   ]
  },
  {
   "cell_type": "code",
   "execution_count": 5,
   "id": "d99351e2",
   "metadata": {},
   "outputs": [
    {
     "name": "stdout",
     "output_type": "stream",
     "text": [
      "* Running on local URL:  http://127.0.0.1:7860\n",
      "* To create a public link, set `share=True` in `launch()`.\n"
     ]
    },
    {
     "data": {
      "text/html": [
       "<div><iframe src=\"http://127.0.0.1:7860/\" width=\"100%\" height=\"500\" allow=\"autoplay; camera; microphone; clipboard-read; clipboard-write;\" frameborder=\"0\" allowfullscreen></iframe></div>"
      ],
      "text/plain": [
       "<IPython.core.display.HTML object>"
      ]
     },
     "metadata": {},
     "output_type": "display_data"
    },
    {
     "data": {
      "text/plain": []
     },
     "execution_count": 5,
     "metadata": {},
     "output_type": "execute_result"
    },
    {
     "name": "stdout",
     "output_type": "stream",
     "text": [
      "✅ Message sent successfully!\n"
     ]
    }
   ],
   "source": [
    "def chat(message, history):\n",
    "    initial_state = State(messages=[{\"role\": \"user\", \"content\": message}])\n",
    "    result=graph.invoke(initial_state)\n",
    "    return result[\"messages\"][-1].content\n",
    "\n",
    "demo = gr.ChatInterface(chat,type=\"messages\")\n",
    "\n",
    "demo.launch()\n"
   ]
  },
  {
   "cell_type": "code",
   "execution_count": null,
   "id": "3a0f070d",
   "metadata": {},
   "outputs": [
    {
     "name": "stdout",
     "output_type": "stream",
     "text": [
      "Closing server running on port: 7860\n"
     ]
    },
    {
     "ename": "",
     "evalue": "",
     "output_type": "error",
     "traceback": [
      "\u001b[1;31mThe Kernel crashed while executing code in the current cell or a previous cell. \n",
      "\u001b[1;31mPlease review the code in the cell(s) to identify a possible cause of the failure. \n",
      "\u001b[1;31mClick <a href='https://aka.ms/vscodeJupyterKernelCrash'>here</a> for more info. \n",
      "\u001b[1;31mView Jupyter <a href='command:jupyter.viewOutput'>log</a> for further details."
     ]
    }
   ],
   "source": [
    "demo.close()"
   ]
  },
  {
   "cell_type": "code",
   "execution_count": null,
   "id": "924dc9da",
   "metadata": {},
   "outputs": [],
   "source": []
  },
  {
   "cell_type": "markdown",
   "id": "986ab4f4",
   "metadata": {},
   "source": []
  }
 ],
 "metadata": {
  "kernelspec": {
   "display_name": "myenv",
   "language": "python",
   "name": "python3"
  },
  "language_info": {
   "codemirror_mode": {
    "name": "ipython",
    "version": 3
   },
   "file_extension": ".py",
   "mimetype": "text/x-python",
   "name": "python",
   "nbconvert_exporter": "python",
   "pygments_lexer": "ipython3",
   "version": "3.10.18"
  }
 },
 "nbformat": 4,
 "nbformat_minor": 5
}
