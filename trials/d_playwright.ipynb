{
 "cells": [
  {
   "cell_type": "code",
   "execution_count": 7,
   "id": "073ac0a1",
   "metadata": {},
   "outputs": [],
   "source": [
    "from typing import Annotated, TypedDict\n",
    "from langgraph.graph import StateGraph, START, END\n",
    "from langgraph.graph.message import add_messages\n",
    "from dotenv import load_dotenv\n",
    "from IPython.display import Image, display\n",
    "from langgraph.prebuilt import ToolNode, tools_condition\n",
    "import gradio as gr\n",
    "from langchain_openai import ChatOpenAI\n",
    "from pydantic import BaseModel\n",
    "from langchain_community.utilities import GoogleSerperAPIWrapper\n",
    "import requests\n",
    "import os\n",
    "from langchain.agents import Tool\n",
    "\n",
    "\n",
    "load_dotenv(override=True)\n",
    "def telegram_push(text: str):\n",
    "    \"\"\"Send push notification via Telegram\"\"\"\n",
    "    telegram_token = os.getenv(\"TELEGRAM_TOKEN\")\n",
    "    chat_id = os.getenv(\"TELEGRAM_CHAT_ID\")\n",
    "    \n",
    "    url = f\"https://api.telegram.org/bot{telegram_token}/sendMessage\"\n",
    "    response=requests.post(url, data={\n",
    "        \"chat_id\": chat_id,\n",
    "        \"text\": text\n",
    "    })\n",
    "    # Check response\n",
    "    if response.status_code == 200:\n",
    "        print(\"✅ Message sent successfully!\")\n",
    "    else:\n",
    "        print(f\"❌ Failed: {response.status_code}\")\n",
    "        print(response.text)\n",
    "    \n",
    "    return response\n",
    "\n",
    "telegram_tool = Tool(\n",
    "    name=\"telegram_push\",\n",
    "    func=telegram_push,\n",
    "    description=\"Send a message to a Telegram chat\"\n",
    ")\n",
    "\n",
    "\n",
    "serper= GoogleSerperAPIWrapper()\n",
    "search_tool= Tool(\n",
    "    name=\"search\",\n",
    "    func=serper.run,\n",
    "    description=\"Search the web for information\"\n",
    ")\n",
    "\n",
    "\n",
    "all_tools=[telegram_tool, search_tool]\n",
    "\n",
    "\n"
   ]
  },
  {
   "cell_type": "code",
   "execution_count": 8,
   "id": "956e58be",
   "metadata": {},
   "outputs": [],
   "source": [
    "# Introducing nest_asyncio\n",
    "# Python async code only allows for one \"event loop\" processing aynchronous events.\n",
    "# The `nest_asyncio` library patches this, and is used for special situations, if you need to run a nested event loop.\n",
    "\n",
    "import nest_asyncio\n",
    "nest_asyncio.apply()"
   ]
  },
  {
   "cell_type": "code",
   "execution_count": 9,
   "id": "7549f59c",
   "metadata": {},
   "outputs": [],
   "source": [
    "from langchain_community.agent_toolkits import PlayWrightBrowserToolkit\n",
    "from langchain_community.tools.playwright.utils import create_async_playwright_browser\n",
    "\n",
    "# If you get a NotImplementedError here or later, see the Heads Up at the top of the notebook\n",
    "\n",
    "async_browser =  create_async_playwright_browser(headless=False)  # headful mode\n",
    "toolkit = PlayWrightBrowserToolkit.from_browser(async_browser=async_browser)\n",
    "tools = toolkit.get_tools()"
   ]
  },
  {
   "cell_type": "code",
   "execution_count": 10,
   "id": "a81933af",
   "metadata": {},
   "outputs": [
    {
     "name": "stdout",
     "output_type": "stream",
     "text": [
      "Hacker News Hacker News new | past | comments | ask | show | jobs | submit login 1. Why We're Leaving Serverless ( unkey.com ) 34 points by vednig 50 minutes ago | hide | 9 comments 2. FSF announces Librephone project ( fsf.org ) 1077 points by g-b-r 12 hours ago | hide | 428 comments 3. I analyzed 200 e-commerce sites and found 73% of their traffic is fake ( joindatacops.com ) 35 points by simul007 59 minutes ago | hide | 12 comments 4. Pixnapping Attack ( pixnapping.com ) 175 points by kevcampb 6 hours ago | hide | 32 comments 5. Show HN: Halloy – the modern IRC client I hope will outlive me ( github.com/squidowl ) 7 points by culinary-robot 25 minutes ago | hide | discuss 6. Helpcare AI (YC F24) Is Hiring 10 minutes ago | hide 7. Britain has wasted £1,112,293,718 switching off wind turbines in 2025 ( wastedwind.energy ) 189 points by bashy 2 hours ago | hide | 165 comments 8. Show HN: Firm, a text-based work management system ( github.com/42futures ) 66 points by danielrothmann 5 hours ago | hide | 28 comments 9. Show HN: I started treasure hunt in Blue Ridge. It's Day 7. Prize is up to $36k+ ( countdowntreasure.com ) 6 points by adamhowell 38 minutes ago | hide | 3 comments 10. Esports scholarship at Deutsche Bahn (German railways) ( db.jobs ) 3 points by schaum 44 minutes ago | hide | discuss 11. Beliefs that are true for regular software but false when applied to AI ( boydkane.com ) 431 points by beyarkay 17 hours ago | hide | 321 comments 12. Just Talk to It – The No-Bs Way of Agentic Engineering ( steipete.me ) 58 points by freediver 5 hours ago | hide | 24 comments 13. DOJ seizes $15B in Bitcoin from 'pig butchering' scam based in Cambodia ( cnbc.com ) 206 points by pseudolus 12 hours ago | hide | 189 comments 14. Show HN: Nano Banana AI Prompt Gallery ( nanobananas.ai ) 5 points by lzyuan1006 2 hours ago | hide | discuss 15. Interviewing Intel's Chief Architect of x86 Cores ( chipsandcheese.com ) 107 points by ryandotsmith 11 hours ago | hide | 17 comments 16. How bad can a $2.97 ADC be? ( excamera.substack.com ) 250 points by jamesbowman 18 hours ago | hide | 130 comments 17. Unpacking Cloudflare Workers CPU Performance Benchmarks ( cloudflare.com ) 256 points by makepanic 15 hours ago | hide | 53 comments 18. CVE-2025-55315: Asp.net Security Feature Bypass Vulnerability [9.9 Critical] ( nist.gov ) 7 points by zeraye 1 hour ago | hide | discuss 19. Updating Desktop Rust ( tritium.legal ) 38 points by piker 6 hours ago | hide | 26 comments 20. The Brain Navigates New Spaces by 'Darting' Between Reality and Mental Maps ( yale.edu ) 39 points by XzetaU8 9 hours ago | hide | 10 comments 21. A 12,000-year-old obelisk with a human face was found in Karahan Tepe ( trthaber.com ) 373 points by fatihpense 1 day ago | hide | 151 comments 22. A Early History of Algebraic Data Types ( hillelwayne.com ) 33 points by surprisetalk 7 hours ago | hide | 5 comments 23. How AI hears accents: An audible visualization of accent clusters ( boldvoice.com ) 237 points by ilyausorov 17 hours ago | hide | 108 comments 24. Hacking the Humane AI Pin ( agg.im ) 151 points by agg23 14 hours ago | hide | 34 comments 25. Intel Announces Inference-Optimized Xe3P Graphics Card with 160GB VRAM ( phoronix.com ) 123 points by wrigby 17 hours ago | hide | 88 comments 26. SmolBSD – build your own minimal BSD system ( smolbsd.org ) 226 points by birdculture 18 hours ago | hide | 20 comments 27. Astronomers 'image' a mysterious dark object in the distant Universe ( mpg.de ) 238 points by b2ccb2 21 hours ago | hide | 129 comments 28. Can we know whether a profiler is accurate? ( stefan-marr.de ) 52 points by todsacerdoti 10 hours ago | hide | 13 comments 29. Animalese.js Demo ( acedio.github.io ) 5 points by gregsadetsky 2 hours ago | hide | 2 comments 30. Printing Petscii Faster ( retrogamecoders.com ) 37 points by ibobev 9 hours ago | hide | 8 comments More Consider applying for YC's Winter 2026 batch! Applications are open till Nov 10 Guidelines | FAQ | Lists | API | Security | Legal | Apply to YC | Contact Search:\n"
     ]
    }
   ],
   "source": [
    "tool_dict = {tool.name:tool for tool in tools}\n",
    "\n",
    "navigate_tool = tool_dict.get(\"navigate_browser\")\n",
    "extract_text_tool = tool_dict.get(\"extract_text\")\n",
    "\n",
    "    \n",
    "await navigate_tool.arun({\"url\": \"https://news.ycombinator.com\"})\n",
    "text = await extract_text_tool.arun({})\n",
    "\n",
    "print(text)"
   ]
  },
  {
   "cell_type": "code",
   "execution_count": null,
   "id": "dc1937a3",
   "metadata": {},
   "outputs": [
    {
     "data": {
      "image/png": "[encoded data removed]",
      "text/plain": [
       "<IPython.core.display.Image object>"
      ]
     },
     "metadata": {},
     "output_type": "display_data"
    },
    {
     "name": "stdout",
     "output_type": "stream",
     "text": [
      "* Running on local URL:  http://127.0.0.1:7861\n",
      "* To create a public link, set `share=True` in `launch()`.\n"
     ]
    },
    {
     "data": {
      "text/html": [
       "<div><iframe src=\"http://127.0.0.1:7861/\" width=\"100%\" height=\"500\" allow=\"autoplay; camera; microphone; clipboard-read; clipboard-write;\" frameborder=\"0\" allowfullscreen></iframe></div>"
      ],
      "text/plain": [
       "<IPython.core.display.HTML object>"
      ]
     },
     "metadata": {},
     "output_type": "display_data"
    },
    {
     "data": {
      "text/plain": []
     },
     "execution_count": 14,
     "metadata": {},
     "output_type": "execute_result"
    },
    {
     "name": "stdout",
     "output_type": "stream",
     "text": [
      "✅ Message sent successfully!\n",
      "✅ Message sent successfully!\n"
     ]
    }
   ],
   "source": [
    "all_tools = all_tools + tools\n",
    "\n",
    "# Give context of the tools to the LLM\n",
    "llm = ChatOpenAI(model=\"gpt-4o-mini\", temperature=0)\n",
    "llm_with_tools = llm.bind_tools(all_tools)\n",
    "\n",
    "class State(TypedDict):\n",
    "    messages: Annotated[list, add_messages]\n",
    "\n",
    "graph_builder = StateGraph(State)\n",
    "\n",
    "def chatbot(state: State):\n",
    "    return {\"messages\": [llm_with_tools.invoke(state[\"messages\"])]}\n",
    "\n",
    "graph_builder.add_node(\"chatbot\", chatbot)\n",
    "graph_builder.add_node(\"tools\", ToolNode(tools=all_tools))\n",
    "\n",
    "graph_builder.add_edge(START, \"chatbot\")\n",
    "graph_builder.add_conditional_edges(\"chatbot\", tools_condition, \"tools\")\n",
    "graph_builder.add_edge(\"tools\", \"chatbot\")\n",
    "graph_builder.add_edge(\"chatbot\", END)  \n",
    "\n",
    "# Compile with memory\n",
    "from langgraph.checkpoint.memory import MemorySaver\n",
    "memory_saver = MemorySaver()\n",
    "graph = graph_builder.compile(checkpointer=memory_saver)\n",
    "\n",
    "display(Image(graph.get_graph().draw_mermaid_png()))\n",
    "\n",
    "config = {\"configurable\": {\"thread_id\": \"1\"}}\n",
    "\n",
    "# Use async chat function with ainvoke for proper async execution\n",
    "async def chat(message, history):\n",
    "    initial_state = State(messages=[{\"role\": \"user\", \"content\": message}])\n",
    "    # Use ainvoke for async execution of Playwright tools\n",
    "    result = await graph.ainvoke(initial_state, config=config)\n",
    "    return result[\"messages\"][-1].content\n",
    "\n",
    "demo = gr.ChatInterface(chat, type=\"messages\")\n",
    "demo.launch()\n",
    "\n",
    "\n",
    "\n",
    "\n",
    "\n"
   ]
  }
 ],
 "metadata": {
  "kernelspec": {
   "display_name": "myenv",
   "language": "python",
   "name": "python3"
  },
  "language_info": {
   "codemirror_mode": {
    "name": "ipython",
    "version": 3
   },
   "file_extension": ".py",
   "mimetype": "text/x-python",
   "name": "python",
   "nbconvert_exporter": "python",
   "pygments_lexer": "ipython3",
   "version": "3.10.18"
  }
 },
 "nbformat": 4,
 "nbformat_minor": 5
}
