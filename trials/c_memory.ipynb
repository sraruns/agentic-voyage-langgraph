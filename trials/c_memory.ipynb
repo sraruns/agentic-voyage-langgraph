{
 "cells": [
  {
   "cell_type": "code",
   "execution_count": 3,
   "id": "073ac0a1",
   "metadata": {},
   "outputs": [
    {
     "name": "stderr",
     "output_type": "stream",
     "text": [
      "s:\\Workspace\\langgraph\\agentic-voyage-langgraph\\myenv\\lib\\site-packages\\tqdm\\auto.py:21: TqdmWarning: IProgress not found. Please update jupyter and ipywidgets. See https://ipywidgets.readthedocs.io/en/stable/user_install.html\n",
      "  from .autonotebook import tqdm as notebook_tqdm\n"
     ]
    }
   ],
   "source": [
    "from typing import Annotated, TypedDict\n",
    "from langgraph.graph import StateGraph, START, END\n",
    "from langgraph.graph.message import add_messages\n",
    "from dotenv import load_dotenv\n",
    "from IPython.display import Image, display\n",
    "from langgraph.prebuilt import ToolNode, tools_condition\n",
    "import gradio as gr\n",
    "from langchain_openai import ChatOpenAI\n",
    "from pydantic import BaseModel\n",
    "from langchain_community.utilities import GoogleSerperAPIWrapper\n",
    "import requests\n",
    "import os\n",
    "from langchain.agents import Tool\n",
    "\n",
    "load_dotenv(override=True)\n",
    "def telegram_push(text: str):\n",
    "    \"\"\"Send push notification via Telegram\"\"\"\n",
    "    telegram_token = os.getenv(\"TELEGRAM_TOKEN\")\n",
    "    chat_id = os.getenv(\"TELEGRAM_CHAT_ID\")\n",
    "    \n",
    "    url = f\"https://api.telegram.org/bot{telegram_token}/sendMessage\"\n",
    "    response=requests.post(url, data={\n",
    "        \"chat_id\": chat_id,\n",
    "        \"text\": text\n",
    "    })\n",
    "    # Check response\n",
    "    if response.status_code == 200:\n",
    "        print(\"✅ Message sent successfully!\")\n",
    "    else:\n",
    "        print(f\"❌ Failed: {response.status_code}\")\n",
    "        print(response.text)\n",
    "    \n",
    "    return response\n",
    "\n",
    "telegram_tool = Tool(\n",
    "    name=\"telegram_push\",\n",
    "    func=telegram_push,\n",
    "    description=\"Send a message to a Telegram chat\"\n",
    ")\n",
    "\n",
    "\n",
    "serper= GoogleSerperAPIWrapper()\n",
    "search_tool= Tool(\n",
    "    name=\"search\",\n",
    "    func=serper.run,\n",
    "    description=\"Search the web for information\"\n",
    ")\n",
    "\n",
    "\n",
    "tools=[telegram_tool, search_tool]\n",
    "\n",
    "# Give context of the tools to the LLM\n",
    "llm = ChatOpenAI(model=\"gpt-4o-mini\", temperature=0)\n",
    "llm_with_tools = llm.bind_tools(tools)\n"
   ]
  },
  {
   "cell_type": "code",
   "execution_count": 3,
   "id": "7b95466e",
   "metadata": {},
   "outputs": [],
   "source": [
    "# COnfig memory\n",
    "from langgraph.checkpoint.memory import MemorySaver\n",
    "memory_saver = MemorySaver()\n"
   ]
  },
  {
   "cell_type": "code",
   "execution_count": null,
   "id": "4c01d5f8",
   "metadata": {},
   "outputs": [
    {
     "data": {
      "image/png": "[encoded data removed]",
      "text/plain": [
       "<IPython.core.display.Image object>"
      ]
     },
     "metadata": {},
     "output_type": "display_data"
    }
   ],
   "source": [
    "\n",
    "# 1. create a state\n",
    "class State(TypedDict):\n",
    "    messages: Annotated[list, add_messages]\n",
    "graph_builder = StateGraph(State)\n",
    "\n",
    "# 2. create a chat node\n",
    "def chatbot_node(old_state: State) -> State:\n",
    "    return {\"messages\": [llm_with_tools.invoke(old_state[\"messages\"])]}\n",
    "\n",
    "# 3. create nodes\n",
    "graph_builder.add_node(\"chatbot_node\", chatbot_node)\n",
    "graph_builder.add_node(\"tools\", ToolNode(tools=tools))\n",
    "\n",
    "\n",
    "# 4. create conditional edges\n",
    "graph_builder.add_conditional_edges(\n",
    "    \"chatbot_node\",\n",
    "    tools_condition,\n",
    "    \"tools\"\n",
    ")\n",
    "\n",
    "# 5. connect the nodes and edges\n",
    "graph_builder.add_edge(START, \"chatbot_node\")\n",
    "graph_builder.add_edge(\"tools\", \"chatbot_node\")\n",
    "graph_builder.add_edge(\"chatbot_node\", END)\n",
    "\n",
    "\n",
    "# 6. compile the graph\n",
    "graph = graph_builder.compile(checkpoint=memory_saver)\n",
    "display(Image(graph.get_graph().draw_mermaid_png()))\n"
   ]
  },
  {
   "cell_type": "code",
   "execution_count": 7,
   "id": "30a75662",
   "metadata": {},
   "outputs": [
    {
     "name": "stdout",
     "output_type": "stream",
     "text": [
      "* Running on local URL:  http://127.0.0.1:7861\n",
      "* To create a public link, set `share=True` in `launch()`.\n"
     ]
    },
    {
     "data": {
      "text/html": [
       "<div><iframe src=\"http://127.0.0.1:7861/\" width=\"100%\" height=\"500\" allow=\"autoplay; camera; microphone; clipboard-read; clipboard-write;\" frameborder=\"0\" allowfullscreen></iframe></div>"
      ],
      "text/plain": [
       "<IPython.core.display.HTML object>"
      ]
     },
     "metadata": {},
     "output_type": "display_data"
    },
    {
     "data": {
      "text/plain": []
     },
     "execution_count": 7,
     "metadata": {},
     "output_type": "execute_result"
    }
   ],
   "source": [
    "config= {\"configurable\":{\"thread_id\": \"1\"}}\n",
    "\n",
    "def chat(message, history):\n",
    "    initial_state = State(messages=[{\"role\": \"user\", \"content\": message}])\n",
    "    result=graph.invoke(initial_state,config=config)\n",
    "    return result[\"messages\"][-1].content\n",
    "\n",
    "gr.ChatInterface(chat,type=\"messages\").launch()"
   ]
  },
  {
   "cell_type": "code",
   "execution_count": 8,
   "id": "f63cf210",
   "metadata": {},
   "outputs": [
    {
     "data": {
      "text/plain": [
       "StateSnapshot(values={'messages': [HumanMessage(content='hi od u knw my name', additional_kwargs={}, response_metadata={}, id='4e8da931-1104-4bec-82c7-fb0451b17dab'), AIMessage(content=\"I don't know your name. How can I assist you today?\", additional_kwargs={'refusal': None}, response_metadata={'token_usage': {'completion_tokens': 14, 'prompt_tokens': 85, 'total_tokens': 99, 'completion_tokens_details': {'accepted_prediction_tokens': 0, 'audio_tokens': 0, 'reasoning_tokens': 0, 'rejected_prediction_tokens': 0}, 'prompt_tokens_details': {'audio_tokens': 0, 'cached_tokens': 0}}, 'model_name': 'gpt-4o-mini-2024-07-18', 'system_fingerprint': 'fp_51db84afab', 'id': 'chatcmpl-CQRM1344A3ZvTIEiNZVHxzOA2XnTj', 'service_tier': 'default', 'finish_reason': 'stop', 'logprobs': None}, id='run--bcae14cb-8a39-4db9-8e00-e8d81c4c2416-0', usage_metadata={'input_tokens': 85, 'output_tokens': 14, 'total_tokens': 99, 'input_token_details': {'audio': 0, 'cache_read': 0}, 'output_token_details': {'audio': 0, 'reasoning': 0}}), HumanMessage(content='im Arun', additional_kwargs={}, response_metadata={}, id='1fc489bc-2b84-4598-92c9-4785f195763d'), AIMessage(content='Nice to meet you, Arun! How can I assist you today?', additional_kwargs={'refusal': None}, response_metadata={'token_usage': {'completion_tokens': 15, 'prompt_tokens': 108, 'total_tokens': 123, 'completion_tokens_details': {'accepted_prediction_tokens': 0, 'audio_tokens': 0, 'reasoning_tokens': 0, 'rejected_prediction_tokens': 0}, 'prompt_tokens_details': {'audio_tokens': 0, 'cached_tokens': 0}}, 'model_name': 'gpt-4o-mini-2024-07-18', 'system_fingerprint': 'fp_51db84afab', 'id': 'chatcmpl-CQRMBsB81OmdoenSAoLO3sURxOFaS', 'service_tier': 'default', 'finish_reason': 'stop', 'logprobs': None}, id='run--067cc8b8-57ba-4a5f-b858-a934f1403964-0', usage_metadata={'input_tokens': 108, 'output_tokens': 15, 'total_tokens': 123, 'input_token_details': {'audio': 0, 'cache_read': 0}, 'output_token_details': {'audio': 0, 'reasoning': 0}}), HumanMessage(content='whats my anme', additional_kwargs={}, response_metadata={}, id='35b4e987-9ff2-49a7-b8ac-1c0499ca451e'), AIMessage(content='Your name is Arun.', additional_kwargs={'refusal': None}, response_metadata={'token_usage': {'completion_tokens': 6, 'prompt_tokens': 135, 'total_tokens': 141, 'completion_tokens_details': {'accepted_prediction_tokens': 0, 'audio_tokens': 0, 'reasoning_tokens': 0, 'rejected_prediction_tokens': 0}, 'prompt_tokens_details': {'audio_tokens': 0, 'cached_tokens': 0}}, 'model_name': 'gpt-4o-mini-2024-07-18', 'system_fingerprint': 'fp_51db84afab', 'id': 'chatcmpl-CQRMKYGzNJwZQAMJxeVv9pRJZ6YK6', 'service_tier': 'default', 'finish_reason': 'stop', 'logprobs': None}, id='run--4e073fbc-b053-4d54-9a29-d3f59a604d3d-0', usage_metadata={'input_tokens': 135, 'output_tokens': 6, 'total_tokens': 141, 'input_token_details': {'audio': 0, 'cache_read': 0}, 'output_token_details': {'audio': 0, 'reasoning': 0}})]}, next=(), config={'configurable': {'thread_id': '1', 'checkpoint_ns': '', 'checkpoint_id': '1f0a8ba0-3c80-6874-8009-87653774e3eb'}}, metadata={'source': 'loop', 'step': 9, 'parents': {}}, created_at='2025-10-14T04:55:32.930981+00:00', parent_config={'configurable': {'thread_id': '1', 'checkpoint_ns': '', 'checkpoint_id': '1f0a8ba0-3215-62de-8008-831e9b581551'}}, tasks=(), interrupts=())"
      ]
     },
     "execution_count": 8,
     "metadata": {},
     "output_type": "execute_result"
    }
   ],
   "source": [
    "graph.get_state(config=config)"
   ]
  },
  {
   "cell_type": "code",
   "execution_count": 9,
   "id": "229f74bf",
   "metadata": {},
   "outputs": [
    {
     "data": {
      "text/plain": [
       "[StateSnapshot(values={'messages': [HumanMessage(content='hi od u knw my name', additional_kwargs={}, response_metadata={}, id='4e8da931-1104-4bec-82c7-fb0451b17dab'), AIMessage(content=\"I don't know your name. How can I assist you today?\", additional_kwargs={'refusal': None}, response_metadata={'token_usage': {'completion_tokens': 14, 'prompt_tokens': 85, 'total_tokens': 99, 'completion_tokens_details': {'accepted_prediction_tokens': 0, 'audio_tokens': 0, 'reasoning_tokens': 0, 'rejected_prediction_tokens': 0}, 'prompt_tokens_details': {'audio_tokens': 0, 'cached_tokens': 0}}, 'model_name': 'gpt-4o-mini-2024-07-18', 'system_fingerprint': 'fp_51db84afab', 'id': 'chatcmpl-CQRM1344A3ZvTIEiNZVHxzOA2XnTj', 'service_tier': 'default', 'finish_reason': 'stop', 'logprobs': None}, id='run--bcae14cb-8a39-4db9-8e00-e8d81c4c2416-0', usage_metadata={'input_tokens': 85, 'output_tokens': 14, 'total_tokens': 99, 'input_token_details': {'audio': 0, 'cache_read': 0}, 'output_token_details': {'audio': 0, 'reasoning': 0}}), HumanMessage(content='im Arun', additional_kwargs={}, response_metadata={}, id='1fc489bc-2b84-4598-92c9-4785f195763d'), AIMessage(content='Nice to meet you, Arun! How can I assist you today?', additional_kwargs={'refusal': None}, response_metadata={'token_usage': {'completion_tokens': 15, 'prompt_tokens': 108, 'total_tokens': 123, 'completion_tokens_details': {'accepted_prediction_tokens': 0, 'audio_tokens': 0, 'reasoning_tokens': 0, 'rejected_prediction_tokens': 0}, 'prompt_tokens_details': {'audio_tokens': 0, 'cached_tokens': 0}}, 'model_name': 'gpt-4o-mini-2024-07-18', 'system_fingerprint': 'fp_51db84afab', 'id': 'chatcmpl-CQRMBsB81OmdoenSAoLO3sURxOFaS', 'service_tier': 'default', 'finish_reason': 'stop', 'logprobs': None}, id='run--067cc8b8-57ba-4a5f-b858-a934f1403964-0', usage_metadata={'input_tokens': 108, 'output_tokens': 15, 'total_tokens': 123, 'input_token_details': {'audio': 0, 'cache_read': 0}, 'output_token_details': {'audio': 0, 'reasoning': 0}}), HumanMessage(content='whats my anme', additional_kwargs={}, response_metadata={}, id='35b4e987-9ff2-49a7-b8ac-1c0499ca451e'), AIMessage(content='Your name is Arun.', additional_kwargs={'refusal': None}, response_metadata={'token_usage': {'completion_tokens': 6, 'prompt_tokens': 135, 'total_tokens': 141, 'completion_tokens_details': {'accepted_prediction_tokens': 0, 'audio_tokens': 0, 'reasoning_tokens': 0, 'rejected_prediction_tokens': 0}, 'prompt_tokens_details': {'audio_tokens': 0, 'cached_tokens': 0}}, 'model_name': 'gpt-4o-mini-2024-07-18', 'system_fingerprint': 'fp_51db84afab', 'id': 'chatcmpl-CQRMKYGzNJwZQAMJxeVv9pRJZ6YK6', 'service_tier': 'default', 'finish_reason': 'stop', 'logprobs': None}, id='run--4e073fbc-b053-4d54-9a29-d3f59a604d3d-0', usage_metadata={'input_tokens': 135, 'output_tokens': 6, 'total_tokens': 141, 'input_token_details': {'audio': 0, 'cache_read': 0}, 'output_token_details': {'audio': 0, 'reasoning': 0}})]}, next=(), config={'configurable': {'thread_id': '1', 'checkpoint_ns': '', 'checkpoint_id': '1f0a8ba0-3c80-6874-8009-87653774e3eb'}}, metadata={'source': 'loop', 'step': 9, 'parents': {}}, created_at='2025-10-14T04:55:32.930981+00:00', parent_config={'configurable': {'thread_id': '1', 'checkpoint_ns': '', 'checkpoint_id': '1f0a8ba0-3215-62de-8008-831e9b581551'}}, tasks=(), interrupts=()),\n",
       " StateSnapshot(values={'messages': [HumanMessage(content='hi od u knw my name', additional_kwargs={}, response_metadata={}, id='4e8da931-1104-4bec-82c7-fb0451b17dab'), AIMessage(content=\"I don't know your name. How can I assist you today?\", additional_kwargs={'refusal': None}, response_metadata={'token_usage': {'completion_tokens': 14, 'prompt_tokens': 85, 'total_tokens': 99, 'completion_tokens_details': {'accepted_prediction_tokens': 0, 'audio_tokens': 0, 'reasoning_tokens': 0, 'rejected_prediction_tokens': 0}, 'prompt_tokens_details': {'audio_tokens': 0, 'cached_tokens': 0}}, 'model_name': 'gpt-4o-mini-2024-07-18', 'system_fingerprint': 'fp_51db84afab', 'id': 'chatcmpl-CQRM1344A3ZvTIEiNZVHxzOA2XnTj', 'service_tier': 'default', 'finish_reason': 'stop', 'logprobs': None}, id='run--bcae14cb-8a39-4db9-8e00-e8d81c4c2416-0', usage_metadata={'input_tokens': 85, 'output_tokens': 14, 'total_tokens': 99, 'input_token_details': {'audio': 0, 'cache_read': 0}, 'output_token_details': {'audio': 0, 'reasoning': 0}}), HumanMessage(content='im Arun', additional_kwargs={}, response_metadata={}, id='1fc489bc-2b84-4598-92c9-4785f195763d'), AIMessage(content='Nice to meet you, Arun! How can I assist you today?', additional_kwargs={'refusal': None}, response_metadata={'token_usage': {'completion_tokens': 15, 'prompt_tokens': 108, 'total_tokens': 123, 'completion_tokens_details': {'accepted_prediction_tokens': 0, 'audio_tokens': 0, 'reasoning_tokens': 0, 'rejected_prediction_tokens': 0}, 'prompt_tokens_details': {'audio_tokens': 0, 'cached_tokens': 0}}, 'model_name': 'gpt-4o-mini-2024-07-18', 'system_fingerprint': 'fp_51db84afab', 'id': 'chatcmpl-CQRMBsB81OmdoenSAoLO3sURxOFaS', 'service_tier': 'default', 'finish_reason': 'stop', 'logprobs': None}, id='run--067cc8b8-57ba-4a5f-b858-a934f1403964-0', usage_metadata={'input_tokens': 108, 'output_tokens': 15, 'total_tokens': 123, 'input_token_details': {'audio': 0, 'cache_read': 0}, 'output_token_details': {'audio': 0, 'reasoning': 0}}), HumanMessage(content='whats my anme', additional_kwargs={}, response_metadata={}, id='35b4e987-9ff2-49a7-b8ac-1c0499ca451e')]}, next=('chatbot_node',), config={'configurable': {'thread_id': '1', 'checkpoint_ns': '', 'checkpoint_id': '1f0a8ba0-3215-62de-8008-831e9b581551'}}, metadata={'source': 'loop', 'step': 8, 'parents': {}}, created_at='2025-10-14T04:55:31.838434+00:00', parent_config={'configurable': {'thread_id': '1', 'checkpoint_ns': '', 'checkpoint_id': '1f0a8ba0-3215-62dd-8007-3ebb7e69133d'}}, tasks=(PregelTask(id='fcf25978-cfcd-9a5e-0a9b-0c4472943ee5', name='chatbot_node', path=('__pregel_pull', 'chatbot_node'), error=None, interrupts=(), state=None, result={'messages': [AIMessage(content='Your name is Arun.', additional_kwargs={'refusal': None}, response_metadata={'token_usage': {'completion_tokens': 6, 'prompt_tokens': 135, 'total_tokens': 141, 'completion_tokens_details': {'accepted_prediction_tokens': 0, 'audio_tokens': 0, 'reasoning_tokens': 0, 'rejected_prediction_tokens': 0}, 'prompt_tokens_details': {'audio_tokens': 0, 'cached_tokens': 0}}, 'model_name': 'gpt-4o-mini-2024-07-18', 'system_fingerprint': 'fp_51db84afab', 'id': 'chatcmpl-CQRMKYGzNJwZQAMJxeVv9pRJZ6YK6', 'service_tier': 'default', 'finish_reason': 'stop', 'logprobs': None}, id='run--4e073fbc-b053-4d54-9a29-d3f59a604d3d-0', usage_metadata={'input_tokens': 135, 'output_tokens': 6, 'total_tokens': 141, 'input_token_details': {'audio': 0, 'cache_read': 0}, 'output_token_details': {'audio': 0, 'reasoning': 0}})]}),), interrupts=()),\n",
       " StateSnapshot(values={'messages': [HumanMessage(content='hi od u knw my name', additional_kwargs={}, response_metadata={}, id='4e8da931-1104-4bec-82c7-fb0451b17dab'), AIMessage(content=\"I don't know your name. How can I assist you today?\", additional_kwargs={'refusal': None}, response_metadata={'token_usage': {'completion_tokens': 14, 'prompt_tokens': 85, 'total_tokens': 99, 'completion_tokens_details': {'accepted_prediction_tokens': 0, 'audio_tokens': 0, 'reasoning_tokens': 0, 'rejected_prediction_tokens': 0}, 'prompt_tokens_details': {'audio_tokens': 0, 'cached_tokens': 0}}, 'model_name': 'gpt-4o-mini-2024-07-18', 'system_fingerprint': 'fp_51db84afab', 'id': 'chatcmpl-CQRM1344A3ZvTIEiNZVHxzOA2XnTj', 'service_tier': 'default', 'finish_reason': 'stop', 'logprobs': None}, id='run--bcae14cb-8a39-4db9-8e00-e8d81c4c2416-0', usage_metadata={'input_tokens': 85, 'output_tokens': 14, 'total_tokens': 99, 'input_token_details': {'audio': 0, 'cache_read': 0}, 'output_token_details': {'audio': 0, 'reasoning': 0}}), HumanMessage(content='im Arun', additional_kwargs={}, response_metadata={}, id='1fc489bc-2b84-4598-92c9-4785f195763d'), AIMessage(content='Nice to meet you, Arun! How can I assist you today?', additional_kwargs={'refusal': None}, response_metadata={'token_usage': {'completion_tokens': 15, 'prompt_tokens': 108, 'total_tokens': 123, 'completion_tokens_details': {'accepted_prediction_tokens': 0, 'audio_tokens': 0, 'reasoning_tokens': 0, 'rejected_prediction_tokens': 0}, 'prompt_tokens_details': {'audio_tokens': 0, 'cached_tokens': 0}}, 'model_name': 'gpt-4o-mini-2024-07-18', 'system_fingerprint': 'fp_51db84afab', 'id': 'chatcmpl-CQRMBsB81OmdoenSAoLO3sURxOFaS', 'service_tier': 'default', 'finish_reason': 'stop', 'logprobs': None}, id='run--067cc8b8-57ba-4a5f-b858-a934f1403964-0', usage_metadata={'input_tokens': 108, 'output_tokens': 15, 'total_tokens': 123, 'input_token_details': {'audio': 0, 'cache_read': 0}, 'output_token_details': {'audio': 0, 'reasoning': 0}})]}, next=('__start__',), config={'configurable': {'thread_id': '1', 'checkpoint_ns': '', 'checkpoint_id': '1f0a8ba0-3215-62dd-8007-3ebb7e69133d'}}, metadata={'source': 'input', 'step': 7, 'parents': {}}, created_at='2025-10-14T04:55:31.838434+00:00', parent_config={'configurable': {'thread_id': '1', 'checkpoint_ns': '', 'checkpoint_id': '1f0a8b9f-e3cf-6b5d-8006-328c31770155'}}, tasks=(PregelTask(id='1616ccc7-998b-339e-c50e-793874fe2494', name='__start__', path=('__pregel_pull', '__start__'), error=None, interrupts=(), state=None, result={'messages': [{'role': 'user', 'content': 'whats my anme'}]}),), interrupts=()),\n",
       " StateSnapshot(values={'messages': [HumanMessage(content='hi od u knw my name', additional_kwargs={}, response_metadata={}, id='4e8da931-1104-4bec-82c7-fb0451b17dab'), AIMessage(content=\"I don't know your name. How can I assist you today?\", additional_kwargs={'refusal': None}, response_metadata={'token_usage': {'completion_tokens': 14, 'prompt_tokens': 85, 'total_tokens': 99, 'completion_tokens_details': {'accepted_prediction_tokens': 0, 'audio_tokens': 0, 'reasoning_tokens': 0, 'rejected_prediction_tokens': 0}, 'prompt_tokens_details': {'audio_tokens': 0, 'cached_tokens': 0}}, 'model_name': 'gpt-4o-mini-2024-07-18', 'system_fingerprint': 'fp_51db84afab', 'id': 'chatcmpl-CQRM1344A3ZvTIEiNZVHxzOA2XnTj', 'service_tier': 'default', 'finish_reason': 'stop', 'logprobs': None}, id='run--bcae14cb-8a39-4db9-8e00-e8d81c4c2416-0', usage_metadata={'input_tokens': 85, 'output_tokens': 14, 'total_tokens': 99, 'input_token_details': {'audio': 0, 'cache_read': 0}, 'output_token_details': {'audio': 0, 'reasoning': 0}}), HumanMessage(content='im Arun', additional_kwargs={}, response_metadata={}, id='1fc489bc-2b84-4598-92c9-4785f195763d'), AIMessage(content='Nice to meet you, Arun! How can I assist you today?', additional_kwargs={'refusal': None}, response_metadata={'token_usage': {'completion_tokens': 15, 'prompt_tokens': 108, 'total_tokens': 123, 'completion_tokens_details': {'accepted_prediction_tokens': 0, 'audio_tokens': 0, 'reasoning_tokens': 0, 'rejected_prediction_tokens': 0}, 'prompt_tokens_details': {'audio_tokens': 0, 'cached_tokens': 0}}, 'model_name': 'gpt-4o-mini-2024-07-18', 'system_fingerprint': 'fp_51db84afab', 'id': 'chatcmpl-CQRMBsB81OmdoenSAoLO3sURxOFaS', 'service_tier': 'default', 'finish_reason': 'stop', 'logprobs': None}, id='run--067cc8b8-57ba-4a5f-b858-a934f1403964-0', usage_metadata={'input_tokens': 108, 'output_tokens': 15, 'total_tokens': 123, 'input_token_details': {'audio': 0, 'cache_read': 0}, 'output_token_details': {'audio': 0, 'reasoning': 0}})]}, next=(), config={'configurable': {'thread_id': '1', 'checkpoint_ns': '', 'checkpoint_id': '1f0a8b9f-e3cf-6b5d-8006-328c31770155'}}, metadata={'source': 'loop', 'step': 6, 'parents': {}}, created_at='2025-10-14T04:55:23.631087+00:00', parent_config={'configurable': {'thread_id': '1', 'checkpoint_ns': '', 'checkpoint_id': '1f0a8b9f-dcfe-6bf7-8005-bc25ef817871'}}, tasks=(), interrupts=()),\n",
       " StateSnapshot(values={'messages': [HumanMessage(content='hi od u knw my name', additional_kwargs={}, response_metadata={}, id='4e8da931-1104-4bec-82c7-fb0451b17dab'), AIMessage(content=\"I don't know your name. How can I assist you today?\", additional_kwargs={'refusal': None}, response_metadata={'token_usage': {'completion_tokens': 14, 'prompt_tokens': 85, 'total_tokens': 99, 'completion_tokens_details': {'accepted_prediction_tokens': 0, 'audio_tokens': 0, 'reasoning_tokens': 0, 'rejected_prediction_tokens': 0}, 'prompt_tokens_details': {'audio_tokens': 0, 'cached_tokens': 0}}, 'model_name': 'gpt-4o-mini-2024-07-18', 'system_fingerprint': 'fp_51db84afab', 'id': 'chatcmpl-CQRM1344A3ZvTIEiNZVHxzOA2XnTj', 'service_tier': 'default', 'finish_reason': 'stop', 'logprobs': None}, id='run--bcae14cb-8a39-4db9-8e00-e8d81c4c2416-0', usage_metadata={'input_tokens': 85, 'output_tokens': 14, 'total_tokens': 99, 'input_token_details': {'audio': 0, 'cache_read': 0}, 'output_token_details': {'audio': 0, 'reasoning': 0}}), HumanMessage(content='im Arun', additional_kwargs={}, response_metadata={}, id='1fc489bc-2b84-4598-92c9-4785f195763d')]}, next=('chatbot_node',), config={'configurable': {'thread_id': '1', 'checkpoint_ns': '', 'checkpoint_id': '1f0a8b9f-dcfe-6bf7-8005-bc25ef817871'}}, metadata={'source': 'loop', 'step': 5, 'parents': {}}, created_at='2025-10-14T04:55:22.916351+00:00', parent_config={'configurable': {'thread_id': '1', 'checkpoint_ns': '', 'checkpoint_id': '1f0a8b9f-dcfe-6bf6-8004-2c93d358e4b2'}}, tasks=(PregelTask(id='f2ce3268-b530-26ec-b443-998cb1509b8f', name='chatbot_node', path=('__pregel_pull', 'chatbot_node'), error=None, interrupts=(), state=None, result={'messages': [AIMessage(content='Nice to meet you, Arun! How can I assist you today?', additional_kwargs={'refusal': None}, response_metadata={'token_usage': {'completion_tokens': 15, 'prompt_tokens': 108, 'total_tokens': 123, 'completion_tokens_details': {'accepted_prediction_tokens': 0, 'audio_tokens': 0, 'reasoning_tokens': 0, 'rejected_prediction_tokens': 0}, 'prompt_tokens_details': {'audio_tokens': 0, 'cached_tokens': 0}}, 'model_name': 'gpt-4o-mini-2024-07-18', 'system_fingerprint': 'fp_51db84afab', 'id': 'chatcmpl-CQRMBsB81OmdoenSAoLO3sURxOFaS', 'service_tier': 'default', 'finish_reason': 'stop', 'logprobs': None}, id='run--067cc8b8-57ba-4a5f-b858-a934f1403964-0', usage_metadata={'input_tokens': 108, 'output_tokens': 15, 'total_tokens': 123, 'input_token_details': {'audio': 0, 'cache_read': 0}, 'output_token_details': {'audio': 0, 'reasoning': 0}})]}),), interrupts=()),\n",
       " StateSnapshot(values={'messages': [HumanMessage(content='hi od u knw my name', additional_kwargs={}, response_metadata={}, id='4e8da931-1104-4bec-82c7-fb0451b17dab'), AIMessage(content=\"I don't know your name. How can I assist you today?\", additional_kwargs={'refusal': None}, response_metadata={'token_usage': {'completion_tokens': 14, 'prompt_tokens': 85, 'total_tokens': 99, 'completion_tokens_details': {'accepted_prediction_tokens': 0, 'audio_tokens': 0, 'reasoning_tokens': 0, 'rejected_prediction_tokens': 0}, 'prompt_tokens_details': {'audio_tokens': 0, 'cached_tokens': 0}}, 'model_name': 'gpt-4o-mini-2024-07-18', 'system_fingerprint': 'fp_51db84afab', 'id': 'chatcmpl-CQRM1344A3ZvTIEiNZVHxzOA2XnTj', 'service_tier': 'default', 'finish_reason': 'stop', 'logprobs': None}, id='run--bcae14cb-8a39-4db9-8e00-e8d81c4c2416-0', usage_metadata={'input_tokens': 85, 'output_tokens': 14, 'total_tokens': 99, 'input_token_details': {'audio': 0, 'cache_read': 0}, 'output_token_details': {'audio': 0, 'reasoning': 0}})]}, next=('__start__',), config={'configurable': {'thread_id': '1', 'checkpoint_ns': '', 'checkpoint_id': '1f0a8b9f-dcfe-6bf6-8004-2c93d358e4b2'}}, metadata={'source': 'input', 'step': 4, 'parents': {}}, created_at='2025-10-14T04:55:22.916351+00:00', parent_config={'configurable': {'thread_id': '1', 'checkpoint_ns': '', 'checkpoint_id': '1f0a8b9f-86e5-6566-8003-8d2c467112ad'}}, tasks=(PregelTask(id='3d32e328-f56b-3777-99be-12d52b54498e', name='__start__', path=('__pregel_pull', '__start__'), error=None, interrupts=(), state=None, result={'messages': [{'role': 'user', 'content': 'im Arun'}]}),), interrupts=()),\n",
       " StateSnapshot(values={'messages': [HumanMessage(content='hi od u knw my name', additional_kwargs={}, response_metadata={}, id='4e8da931-1104-4bec-82c7-fb0451b17dab'), AIMessage(content=\"I don't know your name. How can I assist you today?\", additional_kwargs={'refusal': None}, response_metadata={'token_usage': {'completion_tokens': 14, 'prompt_tokens': 85, 'total_tokens': 99, 'completion_tokens_details': {'accepted_prediction_tokens': 0, 'audio_tokens': 0, 'reasoning_tokens': 0, 'rejected_prediction_tokens': 0}, 'prompt_tokens_details': {'audio_tokens': 0, 'cached_tokens': 0}}, 'model_name': 'gpt-4o-mini-2024-07-18', 'system_fingerprint': 'fp_51db84afab', 'id': 'chatcmpl-CQRM1344A3ZvTIEiNZVHxzOA2XnTj', 'service_tier': 'default', 'finish_reason': 'stop', 'logprobs': None}, id='run--bcae14cb-8a39-4db9-8e00-e8d81c4c2416-0', usage_metadata={'input_tokens': 85, 'output_tokens': 14, 'total_tokens': 99, 'input_token_details': {'audio': 0, 'cache_read': 0}, 'output_token_details': {'audio': 0, 'reasoning': 0}})]}, next=(), config={'configurable': {'thread_id': '1', 'checkpoint_ns': '', 'checkpoint_id': '1f0a8b9f-86e5-6566-8003-8d2c467112ad'}}, metadata={'source': 'loop', 'step': 3, 'parents': {}}, created_at='2025-10-14T04:55:13.888189+00:00', parent_config={'configurable': {'thread_id': '1', 'checkpoint_ns': '', 'checkpoint_id': '1f0a8b9f-7660-644b-8002-fde4de7e0307'}}, tasks=(), interrupts=()),\n",
       " StateSnapshot(values={'messages': [HumanMessage(content='hi od u knw my name', additional_kwargs={}, response_metadata={}, id='4e8da931-1104-4bec-82c7-fb0451b17dab')]}, next=('chatbot_node',), config={'configurable': {'thread_id': '1', 'checkpoint_ns': '', 'checkpoint_id': '1f0a8b9f-7660-644b-8002-fde4de7e0307'}}, metadata={'source': 'loop', 'step': 2, 'parents': {}}, created_at='2025-10-14T04:55:12.155962+00:00', parent_config={'configurable': {'thread_id': '1', 'checkpoint_ns': '', 'checkpoint_id': '1f0a8b9f-7660-644a-8001-f92859f46737'}}, tasks=(PregelTask(id='36226954-7459-bf13-b457-b8df76d6ee73', name='chatbot_node', path=('__pregel_pull', 'chatbot_node'), error=None, interrupts=(), state=None, result={'messages': [AIMessage(content=\"I don't know your name. How can I assist you today?\", additional_kwargs={'refusal': None}, response_metadata={'token_usage': {'completion_tokens': 14, 'prompt_tokens': 85, 'total_tokens': 99, 'completion_tokens_details': {'accepted_prediction_tokens': 0, 'audio_tokens': 0, 'reasoning_tokens': 0, 'rejected_prediction_tokens': 0}, 'prompt_tokens_details': {'audio_tokens': 0, 'cached_tokens': 0}}, 'model_name': 'gpt-4o-mini-2024-07-18', 'system_fingerprint': 'fp_51db84afab', 'id': 'chatcmpl-CQRM1344A3ZvTIEiNZVHxzOA2XnTj', 'service_tier': 'default', 'finish_reason': 'stop', 'logprobs': None}, id='run--bcae14cb-8a39-4db9-8e00-e8d81c4c2416-0', usage_metadata={'input_tokens': 85, 'output_tokens': 14, 'total_tokens': 99, 'input_token_details': {'audio': 0, 'cache_read': 0}, 'output_token_details': {'audio': 0, 'reasoning': 0}})]}),), interrupts=()),\n",
       " StateSnapshot(values={'messages': []}, next=('__start__',), config={'configurable': {'thread_id': '1', 'checkpoint_ns': '', 'checkpoint_id': '1f0a8b9f-7660-644a-8001-f92859f46737'}}, metadata={'source': 'input', 'step': 1, 'parents': {}}, created_at='2025-10-14T04:55:12.155962+00:00', parent_config={'configurable': {'thread_id': '1', 'checkpoint_ns': '', 'checkpoint_id': '1f0a8b9e-44de-6492-8000-edb3a04461be'}}, tasks=(PregelTask(id='aa24bd9b-412b-a394-28bc-4b3a3dea7144', name='__start__', path=('__pregel_pull', '__start__'), error=None, interrupts=(), state=None, result={'messages': [{'role': 'user', 'content': 'hi od u knw my name'}]}),), interrupts=()),\n",
       " StateSnapshot(values={'messages': []}, next=('chatbot_node',), config={'configurable': {'thread_id': '1', 'checkpoint_ns': '', 'checkpoint_id': '1f0a8b9e-44de-6492-8000-edb3a04461be'}}, metadata={'source': 'loop', 'step': 0, 'parents': {}}, created_at='2025-10-14T04:54:40.121153+00:00', parent_config={'configurable': {'thread_id': '1', 'checkpoint_ns': '', 'checkpoint_id': '1f0a8b9e-44de-6491-bfff-3fd21a58cb84'}}, tasks=(PregelTask(id='29769ea0-82aa-94b6-dd09-660a37282612', name='chatbot_node', path=('__pregel_pull', 'chatbot_node'), error='BadRequestError(\\'Error code: 400 - {\\\\\\'error\\\\\\': {\\\\\\'message\\\\\\': \"Invalid \\\\\\'messages\\\\\\': empty array. Expected an array with minimum length 1, but got an empty array instead.\", \\\\\\'type\\\\\\': \\\\\\'invalid_request_error\\\\\\', \\\\\\'param\\\\\\': \\\\\\'messages\\\\\\', \\\\\\'code\\\\\\': \\\\\\'empty_array\\\\\\'}}\\')', interrupts=(), state=None, result=None),), interrupts=()),\n",
       " StateSnapshot(values={'messages': []}, next=('__start__',), config={'configurable': {'thread_id': '1', 'checkpoint_ns': '', 'checkpoint_id': '1f0a8b9e-44de-6491-bfff-3fd21a58cb84'}}, metadata={'source': 'input', 'step': -1, 'parents': {}}, created_at='2025-10-14T04:54:40.121153+00:00', parent_config=None, tasks=(PregelTask(id='c0920ac4-42c8-7a34-3bc8-6f35fdb61bfc', name='__start__', path=('__pregel_pull', '__start__'), error=None, interrupts=(), state=None, result={}),), interrupts=())]"
      ]
     },
     "execution_count": 9,
     "metadata": {},
     "output_type": "execute_result"
    }
   ],
   "source": [
    "list(graph.get_state_history(config))"
   ]
  },
  {
   "cell_type": "code",
   "execution_count": 1,
   "id": "182a5a9d",
   "metadata": {},
   "outputs": [],
   "source": [
    "import sqlite3\n",
    "from langgraph.checkpoint.sqlite import SqliteSaver\n",
    "\n",
    "db_path = \"memory.db\"\n",
    "conn = sqlite3.connect(db_path, check_same_thread=False)\n",
    "sql_memory = SqliteSaver(conn)"
   ]
  },
  {
   "cell_type": "code",
   "execution_count": 6,
   "id": "057f3009",
   "metadata": {},
   "outputs": [
    {
     "data": {
      "image/png": "[encoded data removed]",
      "text/plain": [
       "<IPython.core.display.Image object>"
      ]
     },
     "metadata": {},
     "output_type": "display_data"
    },
    {
     "name": "stdout",
     "output_type": "stream",
     "text": [
      "* Running on local URL:  http://127.0.0.1:7861\n",
      "* To create a public link, set `share=True` in `launch()`.\n"
     ]
    },
    {
     "data": {
      "text/html": [
       "<div><iframe src=\"http://127.0.0.1:7861/\" width=\"100%\" height=\"500\" allow=\"autoplay; camera; microphone; clipboard-read; clipboard-write;\" frameborder=\"0\" allowfullscreen></iframe></div>"
      ],
      "text/plain": [
       "<IPython.core.display.HTML object>"
      ]
     },
     "metadata": {},
     "output_type": "display_data"
    },
    {
     "data": {
      "text/plain": []
     },
     "execution_count": 6,
     "metadata": {},
     "output_type": "execute_result"
    }
   ],
   "source": [
    "\n",
    "# 1. create a state\n",
    "class State(TypedDict):\n",
    "    messages: Annotated[list, add_messages]\n",
    "graph_builder = StateGraph(State)\n",
    "\n",
    "# 2. create a chat node\n",
    "def chatbot_node(old_state: State) -> State:\n",
    "    return {\"messages\": [llm_with_tools.invoke(old_state[\"messages\"])]}\n",
    "\n",
    "# 3. create nodes\n",
    "graph_builder.add_node(\"chatbot_node\", chatbot_node)\n",
    "graph_builder.add_node(\"tools\", ToolNode(tools=tools))\n",
    "\n",
    "\n",
    "# 4. create conditional edges\n",
    "graph_builder.add_conditional_edges(\n",
    "    \"chatbot_node\",\n",
    "    tools_condition,\n",
    "    \"tools\"\n",
    ")\n",
    "\n",
    "# 5. connect the nodes and edges\n",
    "graph_builder.add_edge(START, \"chatbot_node\")\n",
    "graph_builder.add_edge(\"tools\", \"chatbot_node\")\n",
    "graph_builder.add_edge(\"chatbot_node\", END)\n",
    "\n",
    "\n",
    "# 6. compile the graph\n",
    "graph = graph_builder.compile(checkpointer=sql_memory)\n",
    "display(Image(graph.get_graph().draw_mermaid_png()))\n",
    "config= {\"configurable\":{\"thread_id\": \"1\"}}\n",
    "def chat(message, history):\n",
    "    initial_state = State(messages=[{\"role\": \"user\", \"content\": message}])\n",
    "    result=graph.invoke(initial_state,config=config)\n",
    "    return result[\"messages\"][-1].content\n",
    "\n",
    "demo = gr.ChatInterface(chat,type=\"messages\")\n",
    "demo.launch()"
   ]
  }
 ],
 "metadata": {
  "kernelspec": {
   "display_name": "myenv",
   "language": "python",
   "name": "python3"
  },
  "language_info": {
   "codemirror_mode": {
    "name": "ipython",
    "version": 3
   },
   "file_extension": ".py",
   "mimetype": "text/x-python",
   "name": "python",
   "nbconvert_exporter": "python",
   "pygments_lexer": "ipython3",
   "version": "3.10.18"
  }
 },
 "nbformat": 4,
 "nbformat_minor": 5
}
